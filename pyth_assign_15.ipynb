{
 "cells": [
  {
   "cell_type": "markdown",
   "id": "64ca580f",
   "metadata": {},
   "source": [
    "# 1."
   ]
  },
  {
   "cell_type": "code",
   "execution_count": 1,
   "id": "6e7c5922",
   "metadata": {},
   "outputs": [
    {
     "name": "stdout",
     "output_type": "stream",
     "text": [
      "3600\n"
     ]
    }
   ],
   "source": [
    "# code:\n",
    "seconds_in_minute = 60\n",
    "minutes_in_hour = 60\n",
    "seconds_in_hour = seconds_in_minute * minutes_in_hour\n",
    "print(seconds_in_hour)"
   ]
  },
  {
   "cell_type": "markdown",
   "id": "bae7ccc4",
   "metadata": {},
   "source": [
    "# 2."
   ]
  },
  {
   "cell_type": "code",
   "execution_count": 2,
   "id": "0a1fa99a",
   "metadata": {},
   "outputs": [
    {
     "name": "stdout",
     "output_type": "stream",
     "text": [
      "3600\n"
     ]
    }
   ],
   "source": [
    "seconds_per_hour = seconds_in_hour\n",
    "print(seconds_per_hour)"
   ]
  },
  {
   "cell_type": "markdown",
   "id": "cdeef8f8",
   "metadata": {},
   "source": [
    "# 3."
   ]
  },
  {
   "cell_type": "code",
   "execution_count": 3,
   "id": "da0a4268",
   "metadata": {},
   "outputs": [
    {
     "name": "stdout",
     "output_type": "stream",
     "text": [
      "Seconds per day: 86400\n",
      "Seconds per day: 86400\n"
     ]
    }
   ],
   "source": [
    "# Define the variables\n",
    "seconds_per_hour   # 3600 seconds (Already defined)\n",
    "minutes_per_hour = 60 \n",
    "hours_per_day = 24\n",
    "\n",
    "# Calculate the number of seconds in a day\n",
    "seconds_in_day = seconds_per_hour * hours_per_day\n",
    "seconds_in_day = minutes_per_hour * hours_per_day * 60 # one minute = 60 seconds\n",
    "\n",
    "# Print the result\n",
    "print(\"Seconds per day:\", seconds_in_day)\n",
    "print(\"Seconds per day:\", seconds_in_day)"
   ]
  },
  {
   "cell_type": "markdown",
   "id": "79ed4894",
   "metadata": {},
   "source": [
    "# 4."
   ]
  },
  {
   "cell_type": "code",
   "execution_count": 4,
   "id": "0f3f9414",
   "metadata": {},
   "outputs": [
    {
     "name": "stdout",
     "output_type": "stream",
     "text": [
      "Seconds per day: 86400\n"
     ]
    }
   ],
   "source": [
    "# Define the variables\n",
    "seconds_per_hour   # 3600 seconds (Already defined)\n",
    "hours_per_day = 24\n",
    "\n",
    "# Calculate the number of seconds in a day\n",
    "seconds_per_day = seconds_per_hour * hours_per_day\n",
    "\n",
    "# Print the result\n",
    "print(\"Seconds per day:\", seconds_per_day)"
   ]
  },
  {
   "cell_type": "markdown",
   "id": "bab4cfd2",
   "metadata": {},
   "source": [
    "# 5."
   ]
  },
  {
   "cell_type": "code",
   "execution_count": 5,
   "id": "defb7aac",
   "metadata": {},
   "outputs": [
    {
     "name": "stdout",
     "output_type": "stream",
     "text": [
      "24\n"
     ]
    }
   ],
   "source": [
    "Division = seconds_per_day//seconds_per_hour\n",
    "print(Division)"
   ]
  },
  {
   "cell_type": "markdown",
   "id": "1a343ee1",
   "metadata": {},
   "source": [
    "# 6."
   ]
  },
  {
   "cell_type": "code",
   "execution_count": 6,
   "id": "6c9ab798",
   "metadata": {},
   "outputs": [
    {
     "name": "stdout",
     "output_type": "stream",
     "text": [
      "Integer division result: 24\n"
     ]
    }
   ],
   "source": [
    "# Calculate integer division of seconds_per_day by seconds_per_hour\n",
    "integer_division_result = seconds_per_day // seconds_per_hour\n",
    "\n",
    "# Print the result\n",
    "print(\"Integer division result:\", integer_division_result)"
   ]
  },
  {
   "cell_type": "markdown",
   "id": "58077b46",
   "metadata": {},
   "source": [
    "# 7."
   ]
  },
  {
   "cell_type": "code",
   "execution_count": 7,
   "id": "124e64b8",
   "metadata": {},
   "outputs": [
    {
     "name": "stdout",
     "output_type": "stream",
     "text": [
      "2\n",
      "3\n",
      "5\n",
      "7\n",
      "11\n",
      "13\n",
      "17\n",
      "19\n",
      "23\n",
      "29\n"
     ]
    }
   ],
   "source": [
    "# code:\n",
    "def genPrimes():\n",
    "    # Initialize variables\n",
    "    primes = []  # List to store prime numbers\n",
    "    num = 2      # Start with the first prime number\n",
    "\n",
    "    while True:\n",
    "        # Check if num is prime\n",
    "        is_prime = True\n",
    "        for prime in primes:\n",
    "            if num % prime == 0:\n",
    "                is_prime = False\n",
    "                break\n",
    "        \n",
    "        # If num is prime, yield it and add to primes list\n",
    "        if is_prime:\n",
    "            yield num\n",
    "            primes.append(num)\n",
    "        \n",
    "        # Move to the next number\n",
    "        num += 1\n",
    "\n",
    "# Create a generator object\n",
    "prime_gen = genPrimes()\n",
    "\n",
    "# Test the generator by printing the first few prime numbers\n",
    "for _ in range(10):  # Print the first 10 prime numbers\n",
    "    print(next(prime_gen))"
   ]
  },
  {
   "cell_type": "code",
   "execution_count": null,
   "id": "d2f0bf7a",
   "metadata": {},
   "outputs": [],
   "source": []
  }
 ],
 "metadata": {
  "kernelspec": {
   "display_name": "Python 3 (ipykernel)",
   "language": "python",
   "name": "python3"
  },
  "language_info": {
   "codemirror_mode": {
    "name": "ipython",
    "version": 3
   },
   "file_extension": ".py",
   "mimetype": "text/x-python",
   "name": "python",
   "nbconvert_exporter": "python",
   "pygments_lexer": "ipython3",
   "version": "3.11.5"
  }
 },
 "nbformat": 4,
 "nbformat_minor": 5
}
